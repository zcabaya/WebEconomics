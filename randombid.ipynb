{
 "cells": [
  {
   "cell_type": "code",
   "execution_count": 5,
   "metadata": {
    "collapsed": true
   },
   "outputs": [],
   "source": [
    "import pandas as pd\n",
    "import numpy as np\n",
    "from sklearn.preprocessing import OneHotEncoder\n",
    "import time\n",
    "import warnings\n",
    "warnings.filterwarnings('ignore')\n",
    "\n",
    "enc = OneHotEncoder()\n",
    "path = '../web/dataset/'\n",
    "vali = pd.read_csv(path+'validation.csv')"
   ]
  },
  {
   "cell_type": "code",
   "execution_count": 6,
   "metadata": {
    "collapsed": true
   },
   "outputs": [],
   "source": [
    "def const(bid):\n",
    "    price = bid\n",
    "    return price\n",
    "\n",
    "def rand(upper):\n",
    "    price = int(random.random() * upper)\n",
    "    return price\n",
    "\n",
    "def mcpc(ecpc, pctr):\n",
    "    price = int(ecpc * pctr)\n",
    "    return price\n",
    "\n",
    "def lin(pctr, basectr, basebid):\n",
    "#     price = int(pctr*pctr/ basectr *basebid)\n",
    "    price = int(pctr/basectr*basebid)\n",
    "    return price\n",
    "\n",
    "def win(payprice, price):\n",
    "    result = (price>payprice)\n",
    "    return result"
   ]
  },
  {
   "cell_type": "code",
   "execution_count": 9,
   "metadata": {
    "collapsed": true
   },
   "outputs": [],
   "source": [
    "import random\n",
    "random.seed(2017)"
   ]
  },
  {
   "cell_type": "markdown",
   "metadata": {},
   "source": [
    "## test on  validation set"
   ]
  },
  {
   "cell_type": "code",
   "execution_count": 11,
   "metadata": {
    "collapsed": false
   },
   "outputs": [
    {
     "name": "stdout",
     "output_type": "stream",
     "text": [
      "num of win: 104124 num of click: 73 ctr: 0.000701087165303\n"
     ]
    }
   ],
   "source": [
    "random_bidwin = []\n",
    "bidwin = []\n",
    "budget = 6500*1000\n",
    "cost = 0\n",
    "pricelist = []\n",
    "for index in range(len(vali)):\n",
    "\n",
    "    bidid = vali.bidid[index]\n",
    "    slotprice = vali.slotprice[index]\n",
    "    bidprice = vali.bidprice[index]\n",
    "    payprice = vali.payprice[index]\n",
    "    click = vali.click[index]\n",
    "        \n",
    "\n",
    "    price = rand(301)\n",
    "    pricelist.append(price)\n",
    "    result = win(payprice, price)\n",
    "\n",
    "    if result and budget-payprice>0:\n",
    "        detail = []\n",
    "        budget = budget-payprice\n",
    "        #index, adid, click, pclick\n",
    "        detail = [index,bidid,click]\n",
    "        random_bidwin.append(detail)\n",
    "        cost = cost + payprice\n",
    "    if budget<1:\n",
    "        break\n",
    "\n",
    "    slotprice = 0\n",
    "    bidprice = 0\n",
    "        \n",
    "c_sum = 0\n",
    "for n in range(len(random_bidwin)):\n",
    "    c_sum = random_bidwin[n][2]+c_sum\n",
    "if len(random_bidwin) ==0:\n",
    "    ctr=0\n",
    "else:\n",
    "    ctr=c_sum/len(random_bidwin)\n",
    "print('num of win:',len(random_bidwin),'num of click:',c_sum,'ctr:',ctr)"
   ]
  },
  {
   "cell_type": "code",
   "execution_count": 15,
   "metadata": {
    "collapsed": false
   },
   "outputs": [
    {
     "name": "stdout",
     "output_type": "stream",
     "text": [
      "average bid price:  149.83677677 minimum bid price:  0 maximum bid price:  300\n"
     ]
    }
   ],
   "source": [
    "print('average bid price: ',np.mean(pricelist),'minimum bid price: ',min(pricelist),'maximum bid price: ',max(pricelist) )"
   ]
  },
  {
   "cell_type": "code",
   "execution_count": null,
   "metadata": {
    "collapsed": true
   },
   "outputs": [],
   "source": []
  }
 ],
 "metadata": {
  "kernelspec": {
   "display_name": "Python 3",
   "language": "python",
   "name": "python3"
  },
  "language_info": {
   "codemirror_mode": {
    "name": "ipython",
    "version": 3
   },
   "file_extension": ".py",
   "mimetype": "text/x-python",
   "name": "python",
   "nbconvert_exporter": "python",
   "pygments_lexer": "ipython3",
   "version": "3.6.0"
  }
 },
 "nbformat": 4,
 "nbformat_minor": 2
}
