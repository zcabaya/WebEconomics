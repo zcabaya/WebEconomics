{
 "cells": [
  {
   "cell_type": "code",
   "execution_count": 1,
   "metadata": {
    "collapsed": false
   },
   "outputs": [],
   "source": [
    "import pandas as pd\n",
    "import numpy as np\n",
    "from sklearn.preprocessing import OneHotEncoder\n",
    "\n",
    "import warnings\n",
    "warnings.filterwarnings('ignore')\n",
    "\n",
    "enc = OneHotEncoder()\n",
    "path =  '../web/dataset/'\n",
    "train = pd.read_csv(path+'train.csv')\n",
    "test = pd.read_csv(path+'test.csv')\n",
    "dev = pd.read_csv(path+'validation.csv')\n",
    "data = train"
   ]
  },
  {
   "cell_type": "code",
   "execution_count": 2,
   "metadata": {
    "collapsed": true
   },
   "outputs": [],
   "source": [
    "from sklearn.datasets import make_classification\n",
    "from sklearn.preprocessing import OneHotEncoder\n",
    "from sklearn.model_selection import train_test_split\n",
    "from sklearn.metrics import roc_curve\n",
    "from sklearn.pipeline import make_pipeline\n"
   ]
  },
  {
   "cell_type": "code",
   "execution_count": 3,
   "metadata": {
    "collapsed": false
   },
   "outputs": [
    {
     "data": {
      "text/html": [
       "<div>\n",
       "<table border=\"1\" class=\"dataframe\">\n",
       "  <thead>\n",
       "    <tr style=\"text-align: right;\">\n",
       "      <th></th>\n",
       "      <th>click</th>\n",
       "      <th>weekday</th>\n",
       "      <th>hour</th>\n",
       "      <th>bidid</th>\n",
       "      <th>logtype</th>\n",
       "      <th>userid</th>\n",
       "      <th>useragent</th>\n",
       "      <th>IP</th>\n",
       "      <th>region</th>\n",
       "      <th>city</th>\n",
       "      <th>...</th>\n",
       "      <th>slotheight</th>\n",
       "      <th>slotvisibility</th>\n",
       "      <th>slotformat</th>\n",
       "      <th>slotprice</th>\n",
       "      <th>creative</th>\n",
       "      <th>bidprice</th>\n",
       "      <th>payprice</th>\n",
       "      <th>keypage</th>\n",
       "      <th>advertiser</th>\n",
       "      <th>usertag</th>\n",
       "    </tr>\n",
       "  </thead>\n",
       "  <tbody>\n",
       "    <tr>\n",
       "      <th>0</th>\n",
       "      <td>0</td>\n",
       "      <td>1</td>\n",
       "      <td>14</td>\n",
       "      <td>fdfae6789b787899f1b875de3ab8b21a</td>\n",
       "      <td>1</td>\n",
       "      <td>u_Vh1OPkFv3q5CFdR</td>\n",
       "      <td>windows_ie</td>\n",
       "      <td>180.107.112.*</td>\n",
       "      <td>80</td>\n",
       "      <td>85</td>\n",
       "      <td>...</td>\n",
       "      <td>60</td>\n",
       "      <td>1</td>\n",
       "      <td>0</td>\n",
       "      <td>5</td>\n",
       "      <td>612599432d200b093719dd1f372f7a30</td>\n",
       "      <td>300</td>\n",
       "      <td>54</td>\n",
       "      <td>bebefa5efe83beee17a3d245e7c5085b</td>\n",
       "      <td>1458</td>\n",
       "      <td>13866,10063</td>\n",
       "    </tr>\n",
       "    <tr>\n",
       "      <th>1</th>\n",
       "      <td>0</td>\n",
       "      <td>2</td>\n",
       "      <td>20</td>\n",
       "      <td>372883147cdefbc495fb5082f79dde9b</td>\n",
       "      <td>1</td>\n",
       "      <td>u_VhkRL6dCOTLsq-c</td>\n",
       "      <td>windows_chrome</td>\n",
       "      <td>125.120.199.*</td>\n",
       "      <td>94</td>\n",
       "      <td>95</td>\n",
       "      <td>...</td>\n",
       "      <td>250</td>\n",
       "      <td>1</td>\n",
       "      <td>0</td>\n",
       "      <td>5</td>\n",
       "      <td>8dff45ed862a740986dbe688aafee7e5</td>\n",
       "      <td>249</td>\n",
       "      <td>42</td>\n",
       "      <td>15b749127478946f161a54dc0dad27c8</td>\n",
       "      <td>3476</td>\n",
       "      <td>10063,10111</td>\n",
       "    </tr>\n",
       "    <tr>\n",
       "      <th>2</th>\n",
       "      <td>0</td>\n",
       "      <td>5</td>\n",
       "      <td>9</td>\n",
       "      <td>2912cb5947e1fad450e2473c2f61ef75</td>\n",
       "      <td>1</td>\n",
       "      <td>u_VhkyORMrD8TP3GL</td>\n",
       "      <td>windows_ie</td>\n",
       "      <td>120.196.64.*</td>\n",
       "      <td>216</td>\n",
       "      <td>217</td>\n",
       "      <td>...</td>\n",
       "      <td>280</td>\n",
       "      <td>0</td>\n",
       "      <td>1</td>\n",
       "      <td>0</td>\n",
       "      <td>77819d3e0b3467fe5c7b16d68ad923a1</td>\n",
       "      <td>300</td>\n",
       "      <td>76</td>\n",
       "      <td>bebefa5efe83beee17a3d245e7c5085b</td>\n",
       "      <td>1458</td>\n",
       "      <td>10063</td>\n",
       "    </tr>\n",
       "    <tr>\n",
       "      <th>3</th>\n",
       "      <td>0</td>\n",
       "      <td>2</td>\n",
       "      <td>20</td>\n",
       "      <td>d7b7d61d1e50e1d27d210928d28a9b61</td>\n",
       "      <td>1</td>\n",
       "      <td>u_VhkyLRqVL2a4eWL</td>\n",
       "      <td>windows_ie</td>\n",
       "      <td>219.131.122.*</td>\n",
       "      <td>216</td>\n",
       "      <td>221</td>\n",
       "      <td>...</td>\n",
       "      <td>90</td>\n",
       "      <td>0</td>\n",
       "      <td>0</td>\n",
       "      <td>162</td>\n",
       "      <td>7184c9560e68e977187e67e45a4f3198</td>\n",
       "      <td>238</td>\n",
       "      <td>182</td>\n",
       "      <td>0f951a030abdaedd733ee8d114ce2944</td>\n",
       "      <td>3427</td>\n",
       "      <td>10077,10111</td>\n",
       "    </tr>\n",
       "    <tr>\n",
       "      <th>4</th>\n",
       "      <td>0</td>\n",
       "      <td>6</td>\n",
       "      <td>9</td>\n",
       "      <td>657d317dc4045bb79c2652abbea07530</td>\n",
       "      <td>1</td>\n",
       "      <td>u_Vh1zOJuQOtTCBgL</td>\n",
       "      <td>windows_chrome</td>\n",
       "      <td>123.190.78.*</td>\n",
       "      <td>40</td>\n",
       "      <td>48</td>\n",
       "      <td>...</td>\n",
       "      <td>90</td>\n",
       "      <td>0</td>\n",
       "      <td>1</td>\n",
       "      <td>0</td>\n",
       "      <td>c938195f9e404b4f38c7e71bf50263e5</td>\n",
       "      <td>238</td>\n",
       "      <td>34</td>\n",
       "      <td>a3becb967c015e9acb5e72f22b100ef8</td>\n",
       "      <td>3476</td>\n",
       "      <td>10031,13042,10006,10057,13866,10063,14273,1005...</td>\n",
       "    </tr>\n",
       "  </tbody>\n",
       "</table>\n",
       "<p>5 rows × 26 columns</p>\n",
       "</div>"
      ],
      "text/plain": [
       "   click  weekday  hour                             bidid  logtype  \\\n",
       "0      0        1    14  fdfae6789b787899f1b875de3ab8b21a        1   \n",
       "1      0        2    20  372883147cdefbc495fb5082f79dde9b        1   \n",
       "2      0        5     9  2912cb5947e1fad450e2473c2f61ef75        1   \n",
       "3      0        2    20  d7b7d61d1e50e1d27d210928d28a9b61        1   \n",
       "4      0        6     9  657d317dc4045bb79c2652abbea07530        1   \n",
       "\n",
       "              userid       useragent             IP  region  city  \\\n",
       "0  u_Vh1OPkFv3q5CFdR      windows_ie  180.107.112.*      80    85   \n",
       "1  u_VhkRL6dCOTLsq-c  windows_chrome  125.120.199.*      94    95   \n",
       "2  u_VhkyORMrD8TP3GL      windows_ie   120.196.64.*     216   217   \n",
       "3  u_VhkyLRqVL2a4eWL      windows_ie  219.131.122.*     216   221   \n",
       "4  u_Vh1zOJuQOtTCBgL  windows_chrome   123.190.78.*      40    48   \n",
       "\n",
       "                         ...                         slotheight  \\\n",
       "0                        ...                                 60   \n",
       "1                        ...                                250   \n",
       "2                        ...                                280   \n",
       "3                        ...                                 90   \n",
       "4                        ...                                 90   \n",
       "\n",
       "  slotvisibility slotformat slotprice                          creative  \\\n",
       "0              1          0         5  612599432d200b093719dd1f372f7a30   \n",
       "1              1          0         5  8dff45ed862a740986dbe688aafee7e5   \n",
       "2              0          1         0  77819d3e0b3467fe5c7b16d68ad923a1   \n",
       "3              0          0       162  7184c9560e68e977187e67e45a4f3198   \n",
       "4              0          1         0  c938195f9e404b4f38c7e71bf50263e5   \n",
       "\n",
       "   bidprice  payprice                           keypage advertiser  \\\n",
       "0       300        54  bebefa5efe83beee17a3d245e7c5085b       1458   \n",
       "1       249        42  15b749127478946f161a54dc0dad27c8       3476   \n",
       "2       300        76  bebefa5efe83beee17a3d245e7c5085b       1458   \n",
       "3       238       182  0f951a030abdaedd733ee8d114ce2944       3427   \n",
       "4       238        34  a3becb967c015e9acb5e72f22b100ef8       3476   \n",
       "\n",
       "                                             usertag  \n",
       "0                                        13866,10063  \n",
       "1                                        10063,10111  \n",
       "2                                              10063  \n",
       "3                                        10077,10111  \n",
       "4  10031,13042,10006,10057,13866,10063,14273,1005...  \n",
       "\n",
       "[5 rows x 26 columns]"
      ]
     },
     "execution_count": 3,
     "metadata": {},
     "output_type": "execute_result"
    }
   ],
   "source": [
    "data.head()"
   ]
  },
  {
   "cell_type": "code",
   "execution_count": 4,
   "metadata": {
    "collapsed": false
   },
   "outputs": [
    {
     "data": {
      "text/plain": [
       "click                                            0\n",
       "weekday                                          1\n",
       "hour                                            14\n",
       "bidid             fdfae6789b787899f1b875de3ab8b21a\n",
       "logtype                                          1\n",
       "userid                           u_Vh1OPkFv3q5CFdR\n",
       "useragent                               windows_ie\n",
       "IP                                   180.107.112.*\n",
       "region                                          80\n",
       "city                                            85\n",
       "adexchange                                       2\n",
       "domain                        trqRTuToMTNUjM9r5rMi\n",
       "url               d48a96ab59d7ad741a48e781de44efeb\n",
       "urlid                                         null\n",
       "slotid                                   433287550\n",
       "slotwidth                                      468\n",
       "slotheight                                      60\n",
       "slotvisibility                                   1\n",
       "slotformat                                       0\n",
       "slotprice                                        5\n",
       "creative          612599432d200b093719dd1f372f7a30\n",
       "bidprice                                       300\n",
       "payprice                                        54\n",
       "keypage           bebefa5efe83beee17a3d245e7c5085b\n",
       "advertiser                                    1458\n",
       "usertag                                13866,10063\n",
       "Name: 0, dtype: object"
      ]
     },
     "execution_count": 4,
     "metadata": {},
     "output_type": "execute_result"
    }
   ],
   "source": [
    "data.iloc[0]"
   ]
  },
  {
   "cell_type": "code",
   "execution_count": 5,
   "metadata": {
    "collapsed": false
   },
   "outputs": [],
   "source": [
    "os_name = ['windows','android','mac','other','linux','ios']\n",
    "data[\"OS\"] = float('NaN')\n",
    "j=0\n",
    "for i in (os_name):\n",
    "    data['keypage'][data['keypage']==i] = j\n",
    "    j +=1\n",
    "\n",
    "data[\"OS\"][data['useragent'].map(lambda x: x.split('_')[0])==\"windows\"] = 0\n",
    "data[\"OS\"][data['useragent'].map(lambda x: x.split('_')[0])==\"android\"] = 1\n",
    "data[\"OS\"][data['useragent'].map(lambda x: x.split('_')[0])==\"mac\"] = 2\n",
    "data[\"OS\"][data['useragent'].map(lambda x: x.split('_')[0])==\"other\"] = 3\n",
    "data[\"OS\"][data['useragent'].map(lambda x: x.split('_')[0])==\"linux\"] = 4\n",
    "data[\"OS\"][data['useragent'].map(lambda x: x.split('_')[0])==\"ios\"] = 5"
   ]
  },
  {
   "cell_type": "code",
   "execution_count": 6,
   "metadata": {
    "collapsed": true
   },
   "outputs": [],
   "source": [
    "browser_name = ['ie','chrome','safari','firefox','other','theworld','maxthon','opera','sogou']\n",
    "data[\"Browser\"] = float('NaN')\n",
    "data[\"Browser\"][data['useragent'].map(lambda x: x.split('_')[1])==\"ie\"] = 0\n",
    "data[\"Browser\"][data['useragent'].map(lambda x: x.split('_')[1])==\"chrome\"] = 1\n",
    "data[\"Browser\"][data['useragent'].map(lambda x: x.split('_')[1])==\"safari\"] = 2\n",
    "data[\"Browser\"][data['useragent'].map(lambda x: x.split('_')[1])==\"firefox\"] = 3\n",
    "data[\"Browser\"][data['useragent'].map(lambda x: x.split('_')[1])==\"other\"] = 4\n",
    "data[\"Browser\"][data['useragent'].map(lambda x: x.split('_')[1])==\"theworld\"] = 5\n",
    "data[\"Browser\"][data['useragent'].map(lambda x: x.split('_')[1])==\"maxthon\"] = 6\n",
    "data[\"Browser\"][data['useragent'].map(lambda x: x.split('_')[1])==\"opera\"] = 7\n",
    "data[\"Browser\"][data['useragent'].map(lambda x: x.split('_')[1])==\"sogou\"] = 8"
   ]
  },
  {
   "cell_type": "code",
   "execution_count": 7,
   "metadata": {
    "collapsed": false
   },
   "outputs": [
    {
     "name": "stdout",
     "output_type": "stream",
     "text": [
      "0    1866046\n",
      "2     466982\n",
      "1     360686\n",
      "4       2038\n",
      "3       1986\n",
      "Name: IPaddress, dtype: int64\n"
     ]
    }
   ],
   "source": [
    "data[\"IPaddress\"] = float('NaN')\n",
    "data[\"IPaddress\"][data[\"IP\"].map(lambda x: x.split('.')[0]).astype(float)<= 255]='4'\n",
    "data[\"IPaddress\"][data['IP'].map(lambda x: x.split('.')[0]).astype(float)<= 239]='3'\n",
    "data[\"IPaddress\"][data['IP'].map(lambda x: x.split('.')[0]).astype(float)<= 223]='2'\n",
    "data[\"IPaddress\"][data['IP'].map(lambda x: x.split('.')[0]).astype(float)<= 191]='1'\n",
    "data[\"IPaddress\"][data['IP'].map(lambda x: x.split('.')[0]).astype(float)<= 126]='0'\n",
    "print(data[\"IPaddress\"].value_counts())"
   ]
  },
  {
   "cell_type": "code",
   "execution_count": 8,
   "metadata": {
    "collapsed": false
   },
   "outputs": [],
   "source": [
    "a = data['slotwidth']\n",
    "b = data['slotheight']\n",
    "\n",
    "data[\"slotsize\"] = float('NaN')\n",
    "data[\"slotsize\"] = a*b"
   ]
  },
  {
   "cell_type": "code",
   "execution_count": 9,
   "metadata": {
    "collapsed": true
   },
   "outputs": [],
   "source": [
    "j=0\n",
    "for i in (data['keypage'].unique()):\n",
    "    data['keypage'][data['keypage']==i] = j\n",
    "    j +=1"
   ]
  },
  {
   "cell_type": "code",
   "execution_count": 10,
   "metadata": {
    "collapsed": true
   },
   "outputs": [],
   "source": [
    "j=0\n",
    "for i in (data['advertiser'].unique()):\n",
    "    data['advertiser'][data['advertiser']==i] = j\n",
    "    j +=1"
   ]
  },
  {
   "cell_type": "code",
   "execution_count": 11,
   "metadata": {
    "collapsed": false
   },
   "outputs": [
    {
     "data": {
      "text/plain": [
       "click                                            0\n",
       "weekday                                          2\n",
       "hour                                            20\n",
       "bidid             372883147cdefbc495fb5082f79dde9b\n",
       "logtype                                          1\n",
       "userid                           u_VhkRL6dCOTLsq-c\n",
       "useragent                           windows_chrome\n",
       "IP                                   125.120.199.*\n",
       "region                                          94\n",
       "city                                            95\n",
       "adexchange                                       2\n",
       "domain                          trqRTv14MqTR1m58uG\n",
       "url               313e110c149d24b3236165d30879c595\n",
       "urlid                                         null\n",
       "slotid                                  2264242698\n",
       "slotwidth                                      250\n",
       "slotheight                                     250\n",
       "slotvisibility                                   1\n",
       "slotformat                                       0\n",
       "slotprice                                        5\n",
       "creative          8dff45ed862a740986dbe688aafee7e5\n",
       "bidprice                                       249\n",
       "payprice                                        42\n",
       "keypage                                          1\n",
       "advertiser                                       1\n",
       "usertag                                10063,10111\n",
       "OS                                               0\n",
       "Browser                                          1\n",
       "IPaddress                                        0\n",
       "slotsize                                     62500\n",
       "Name: 1, dtype: object"
      ]
     },
     "execution_count": 11,
     "metadata": {},
     "output_type": "execute_result"
    }
   ],
   "source": [
    "data.iloc[1]"
   ]
  },
  {
   "cell_type": "code",
   "execution_count": 12,
   "metadata": {
    "collapsed": false
   },
   "outputs": [],
   "source": [
    "data = data.drop('bidid',1)\n",
    "data = data.drop('userid',1)\n",
    "data = data.drop('useragent',1)\n",
    "data = data.drop('domain',1)\n",
    "data = data.drop('IP',1)\n",
    "data = data.drop('url',1)\n",
    "data = data.drop('urlid',1)\n",
    "data = data.drop('city',1)\n",
    "data = data.drop('slotid',1)\n",
    "data = data.drop('slotwidth',1)\n",
    "data = data.drop('slotheight',1)\n",
    "data = data.drop('creative',1)\n",
    "data = data.drop('usertag',1)\n",
    "######\n",
    "data = data.drop('adexchange',1)\n",
    "data = data.drop('slotvisibility',1)\n",
    "data = data.drop('slotformat',1)"
   ]
  },
  {
   "cell_type": "code",
   "execution_count": 14,
   "metadata": {
    "collapsed": false
   },
   "outputs": [],
   "source": [
    "x_train = np.array(data.drop('click',1))\n",
    "x_test = np.array(data[\"click\"])"
   ]
  },
  {
   "cell_type": "code",
   "execution_count": 15,
   "metadata": {
    "collapsed": false
   },
   "outputs": [],
   "source": [
    "import numpy as np\n",
    "from sklearn.model_selection import train_test_split\n",
    "X_train, X_test, y_train, y_test = train_test_split( x_train, x_test, test_size=0.2, random_state=0)"
   ]
  },
  {
   "cell_type": "code",
   "execution_count": 16,
   "metadata": {
    "collapsed": true
   },
   "outputs": [],
   "source": [
    "from sklearn.metrics import mean_squared_error\n",
    "def rmse(y_true, y_pred):\n",
    "    return np.sqrt(mean_squared_error(y_true, y_pred))"
   ]
  },
  {
   "cell_type": "code",
   "execution_count": 83,
   "metadata": {
    "collapsed": false
   },
   "outputs": [
    {
     "name": "stdout",
     "output_type": "stream",
     "text": [
      "[ 0.12770554  0.08638804  0.24397613  0.19388204  0.2258      0.04141537\n",
      "  0.08083289]\n",
      "0.999595957799\n"
     ]
    }
   ],
   "source": [
    "from sklearn.tree import DecisionTreeClassifier\n",
    "my_tree_one = DecisionTreeClassifier()\n",
    "target = data[\"click\"].values\n",
    "features_one = data[[\"weekday\",\"IPaddress\",\"payprice\",\"hour\",\"region\",\"slotprice\"]].values\n",
    "my_tree_one = my_tree_one.fit(features_one,target)\n",
    "\n",
    "# Look at the importance and score of the included features\n",
    "print(my_tree_one.feature_importances_)\n",
    "print(my_tree_one.score(features_one, target))"
   ]
  },
  {
   "cell_type": "code",
   "execution_count": 84,
   "metadata": {
    "collapsed": false
   },
   "outputs": [
    {
     "name": "stdout",
     "output_type": "stream",
     "text": [
      "DecisionTreeClassifier score on training set:  0.0201008010109\n"
     ]
    }
   ],
   "source": [
    "my_prediction = my_tree_one.predict(features_one)\n",
    "print(\"DecisionTreeClassifier score on training set: \", rmse(target, my_prediction))"
   ]
  },
  {
   "cell_type": "code",
   "execution_count": 87,
   "metadata": {
    "collapsed": false
   },
   "outputs": [
    {
     "name": "stdout",
     "output_type": "stream",
     "text": [
      "[ 0.12068022  0.04487074  0.34425469  0.15876472  0.11932194  0.03291315\n",
      "  0.17919456]\n",
      "0.999248259097\n"
     ]
    }
   ],
   "source": [
    "#Control overfitting by setting \"max_depth\" to 10 and \"min_samples_split\" to 5 : my_tree_two ######prevent overfitting\n",
    "max_depth = 10\n",
    "min_samples_split =5\n",
    "my_tree_two = DecisionTreeClassifier(max_depth = 10, min_samples_split = 5, random_state = 0)\n",
    "my_tree_two = my_tree_two.fit(features_one, target)\n",
    "\n",
    "#Print the score of the new decison tree\n",
    "print(my_tree_two.feature_importances_)\n",
    "\n",
    "print(my_tree_two.score(features_one, target))"
   ]
  },
  {
   "cell_type": "code",
   "execution_count": 88,
   "metadata": {
    "collapsed": false
   },
   "outputs": [
    {
     "name": "stdout",
     "output_type": "stream",
     "text": [
      "DecisionTreeClassifier score on training set:  0.0274178938457\n"
     ]
    }
   ],
   "source": [
    "my_prediction2 = my_tree_two.predict(features_one)\n",
    "print(\"DecisionTreeClassifier score on training set2: \", rmse(target, my_prediction2))"
   ]
  },
  {
   "cell_type": "code",
   "execution_count": 18,
   "metadata": {
    "collapsed": false
   },
   "outputs": [],
   "source": [
    "from sklearn.ensemble import RandomForestRegressor,GradientBoostingRegressor\n",
    "regr = RandomForestRegressor(\n",
    "    n_jobs= 1,\n",
    "    n_estimators= 100,\n",
    "    max_features= 'auto',\n",
    "    max_depth= 2,\n",
    "    min_samples_split=2,\n",
    "    min_samples_leaf= 1)"
   ]
  },
  {
   "cell_type": "code",
   "execution_count": 39,
   "metadata": {
    "collapsed": false
   },
   "outputs": [
    {
     "name": "stdout",
     "output_type": "stream",
     "text": [
      "RandomForestRegressor score on training set:  0.0249270505246\n",
      "RandomForestRegressor score on vali set:  0.0300238230321\n"
     ]
    }
   ],
   "source": [
    "regr.fit(X_train[:100000], y_train[:100000])\n",
    "# Run prediction on training set to get a rough idea of how well it does.\n",
    "y_pred = regr.predict(X_test[:100000])\n",
    "print(\"RandomForestRegressor score on training set: \", rmse(y_train[:100000], y_pred))\n",
    "\n",
    "\n",
    "# Run prediction on the Kaggle test set.\n",
    "y_pred_2 = regr.predict(X_test[:10000])\n",
    "print(\"RandomForestRegressor score on vali set: \", rmse(y_test[:10000], y_pred_2))"
   ]
  },
  {
   "cell_type": "code",
   "execution_count": null,
   "metadata": {
    "collapsed": true
   },
   "outputs": [],
   "source": []
  }
 ],
 "metadata": {
  "kernelspec": {
   "display_name": "Python 3",
   "language": "python",
   "name": "python3"
  },
  "language_info": {
   "codemirror_mode": {
    "name": "ipython",
    "version": 3
   },
   "file_extension": ".py",
   "mimetype": "text/x-python",
   "name": "python",
   "nbconvert_exporter": "python",
   "pygments_lexer": "ipython3",
   "version": "3.6.0"
  }
 },
 "nbformat": 4,
 "nbformat_minor": 2
}
